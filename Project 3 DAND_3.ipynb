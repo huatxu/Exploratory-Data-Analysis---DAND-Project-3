{
 "cells": [
  {
   "cell_type": "markdown",
   "metadata": {},
   "source": [
    "# Project: Investigate a Dataset\n",
    "### Data Analyst Nanodegree\n",
    "\n",
    "## Table of Contents\n",
    "<ul>\n",
    "<li><a href=\"#intro\">Introduction</a></li>\n",
    "<li><a href=\"#wrangling\">Data Wrangling</a></li>\n",
    "<li><a href=\"#eda\">Exploratory Data Analysis</a></li>\n",
    "<li><a href=\"#conclusions\">Conclusions</a></li>\n",
    "</ul>\n",
    "\n",
    "\n"
   ]
  },
  {
   "cell_type": "markdown",
   "metadata": {},
   "source": [
    "<a id='intro'>  </a>\n",
    "## Introduction\n",
    "In this report we are going to perform a quick investigation on a dataset that contains more than 100k medical appointments in Brazil and is focused on the question of whether or not patients show up for their appointment.\n",
    "For this analysis we are going to use external libraries such as pandas, numpy and matplotlib in order to optimize the process."
   ]
  },
  {
   "cell_type": "code",
   "execution_count": 1,
   "metadata": {},
   "outputs": [],
   "source": [
    "import numpy as np\n",
    "import pandas as pd\n",
    "import matplotlib.pyplot as plt\n",
    "%matplotlib inline"
   ]
  },
  {
   "cell_type": "code",
   "execution_count": 2,
   "metadata": {},
   "outputs": [],
   "source": [
    "df = pd.read_csv('noshowappointments-kagglev2-may-2016.csv') # df will be the name of this main dataframe"
   ]
  },
  {
   "cell_type": "markdown",
   "metadata": {},
   "source": [
    "We are going to try to answer the following questions: \n",
    "<ul><li>Are patients of one gender more absent than of the other? </li>\n",
    "    <li>Do some hospitals get more patients not showing up for their appoinment?</li>\n",
    "    <li>Is the age of patients a factor when measuring absenteeism?</li>\n",
    "    <li>Does the time between citation and appointment increase or decrease absenteeism?</li>\n",
    "<li>Is it likely that a patient who has not shown up once does not go to the next appointment?</li></ul>"
   ]
  },
  {
   "cell_type": "markdown",
   "metadata": {},
   "source": [
    "### First look at our data"
   ]
  },
  {
   "cell_type": "code",
   "execution_count": 3,
   "metadata": {},
   "outputs": [
    {
     "data": {
      "text/plain": [
       "(110527, 14)"
      ]
     },
     "execution_count": 3,
     "metadata": {},
     "output_type": "execute_result"
    }
   ],
   "source": [
    "df.shape"
   ]
  },
  {
   "cell_type": "code",
   "execution_count": 4,
   "metadata": {
    "scrolled": false
   },
   "outputs": [
    {
     "name": "stdout",
     "output_type": "stream",
     "text": [
      "<class 'pandas.core.frame.DataFrame'>\n",
      "RangeIndex: 110527 entries, 0 to 110526\n",
      "Data columns (total 14 columns):\n",
      "PatientId         110527 non-null float64\n",
      "AppointmentID     110527 non-null int64\n",
      "Gender            110527 non-null object\n",
      "ScheduledDay      110527 non-null object\n",
      "AppointmentDay    110527 non-null object\n",
      "Age               110527 non-null int64\n",
      "Neighbourhood     110527 non-null object\n",
      "Scholarship       110527 non-null int64\n",
      "Hipertension      110527 non-null int64\n",
      "Diabetes          110527 non-null int64\n",
      "Alcoholism        110527 non-null int64\n",
      "Handcap           110527 non-null int64\n",
      "SMS_received      110527 non-null int64\n",
      "No-show           110527 non-null object\n",
      "dtypes: float64(1), int64(8), object(5)\n",
      "memory usage: 11.8+ MB\n"
     ]
    }
   ],
   "source": [
    "df.info() "
   ]
  },
  {
   "cell_type": "markdown",
   "metadata": {},
   "source": [
    "Our data is a decently large, consisting in over 110k entries with 14 columns each. Any of the columns contains null values."
   ]
  },
  {
   "cell_type": "markdown",
   "metadata": {},
   "source": [
    "### Some name changing"
   ]
  },
  {
   "cell_type": "markdown",
   "metadata": {},
   "source": [
    "First of all, I am changing the column name system, that feels a little bit inconsistent, with snake case style ones, also im going to shorten some of them for preventing typing errors."
   ]
  },
  {
   "cell_type": "code",
   "execution_count": 5,
   "metadata": {},
   "outputs": [],
   "source": [
    "df.columns = [x.lower() for x in df.columns] # Iterates over the column names and applies lower()"
   ]
  },
  {
   "cell_type": "code",
   "execution_count": 6,
   "metadata": {},
   "outputs": [],
   "source": [
    "new_names = {'patientid' : 'patient_id', 'scheduledday' : 's_day', 'appointmentday' : 'a_day', 'no-show' : 'no_show'}\n",
    "df.rename(columns = new_names, inplace = True) # I manually changed the rest of names"
   ]
  },
  {
   "cell_type": "code",
   "execution_count": 7,
   "metadata": {},
   "outputs": [],
   "source": [
    "df.drop(columns = ['appointmentid', 'alcoholism', 'scholarship', 'hipertension', 'diabetes', 'handcap', 'sms_received'], inplace = True) \n",
    "                                                    # The appointment Id is unique for each column and does not \n",
    "                                                    # provide any useful information for this analysis, so we drop it, as well \n",
    "                                                    # all the colums we are not going to look into"
   ]
  },
  {
   "cell_type": "markdown",
   "metadata": {},
   "source": [
    "<a id='wrangling'></a>\n",
    "## Data Wrangling and cleaning\n",
    "\n"
   ]
  },
  {
   "cell_type": "markdown",
   "metadata": {},
   "source": [
    "We need to get rid of duplicated rows and deal with nulls before we can continue"
   ]
  },
  {
   "cell_type": "code",
   "execution_count": 8,
   "metadata": {
    "scrolled": false
   },
   "outputs": [
    {
     "data": {
      "text/plain": [
       "1305"
      ]
     },
     "execution_count": 8,
     "metadata": {},
     "output_type": "execute_result"
    }
   ],
   "source": [
    "df.duplicated().sum() # No duplicated rows"
   ]
  },
  {
   "cell_type": "markdown",
   "metadata": {},
   "source": [
    "The s_day and a_day columns are still not formatted as a proper pandas datetime date, just as a string, so we change that, and just keep the date because the time is missing in a_date, so time comparisons could by misleading."
   ]
  },
  {
   "cell_type": "code",
   "execution_count": 9,
   "metadata": {},
   "outputs": [],
   "source": [
    "df['s_day'] = pd.to_datetime(df['s_day'] ).dt.date\n",
    "df['a_day'] = pd.to_datetime(df['a_day'] ).dt.date"
   ]
  },
  {
   "cell_type": "markdown",
   "metadata": {},
   "source": [
    "What about the age?"
   ]
  },
  {
   "cell_type": "code",
   "execution_count": 10,
   "metadata": {},
   "outputs": [
    {
     "data": {
      "text/plain": [
       "99832   -1\n",
       "Name: age, dtype: int64"
      ]
     },
     "execution_count": 10,
     "metadata": {},
     "output_type": "execute_result"
    }
   ],
   "source": [
    "df.age.sort_values().head(1) # Negative value in age? Drop it!"
   ]
  },
  {
   "cell_type": "code",
   "execution_count": 11,
   "metadata": {},
   "outputs": [],
   "source": [
    "df.drop(index = 99832, inplace = True)"
   ]
  },
  {
   "cell_type": "markdown",
   "metadata": {},
   "source": [
    "One of the questions we are addresing is the time passed between the citation and appointment day. We are going to create a new column for the dataframe, called time_passed, to keep track of days passed in a single integer."
   ]
  },
  {
   "cell_type": "code",
   "execution_count": 12,
   "metadata": {},
   "outputs": [],
   "source": [
    "df['days_passed'] = df['a_day'] - df['s_day'] # New column added\n",
    "df.sort_values('days_passed', inplace = True) # Then we sort them by days passed\n",
    "df.days_passed = df.days_passed.dt.days.astype('int') # And it as numbers instead of datetimes"
   ]
  },
  {
   "cell_type": "code",
   "execution_count": 13,
   "metadata": {},
   "outputs": [
    {
     "data": {
      "text/plain": [
       "71533   -6\n",
       "72362   -1\n",
       "64175   -1\n",
       "55226   -1\n",
       "27033   -1\n",
       "57785    0\n",
       "57786    0\n",
       "57787    0\n",
       "57788    0\n",
       "57789    0\n",
       "Name: days_passed, dtype: int32"
      ]
     },
     "execution_count": 13,
     "metadata": {},
     "output_type": "execute_result"
    }
   ],
   "source": [
    "df.days_passed.head(10)"
   ]
  },
  {
   "cell_type": "code",
   "execution_count": 14,
   "metadata": {},
   "outputs": [],
   "source": [
    "df = df.sort_values('days_passed')[5:] # No negative differences between days"
   ]
  },
  {
   "cell_type": "markdown",
   "metadata": {},
   "source": [
    "Finally we change the no_show column to contain nice ones a zeros instead of the yes or no strings. We achieve it with a one liner:"
   ]
  },
  {
   "cell_type": "code",
   "execution_count": 15,
   "metadata": {},
   "outputs": [],
   "source": [
    "df.no_show = df.no_show.eq('Yes').mul(1)"
   ]
  },
  {
   "cell_type": "markdown",
   "metadata": {},
   "source": [
    "And here is our new dataset, ready to answer just the right questions:"
   ]
  },
  {
   "cell_type": "code",
   "execution_count": 16,
   "metadata": {},
   "outputs": [
    {
     "data": {
      "text/html": [
       "<div>\n",
       "<style scoped>\n",
       "    .dataframe tbody tr th:only-of-type {\n",
       "        vertical-align: middle;\n",
       "    }\n",
       "\n",
       "    .dataframe tbody tr th {\n",
       "        vertical-align: top;\n",
       "    }\n",
       "\n",
       "    .dataframe thead th {\n",
       "        text-align: right;\n",
       "    }\n",
       "</style>\n",
       "<table border=\"1\" class=\"dataframe\">\n",
       "  <thead>\n",
       "    <tr style=\"text-align: right;\">\n",
       "      <th></th>\n",
       "      <th>patient_id</th>\n",
       "      <th>gender</th>\n",
       "      <th>s_day</th>\n",
       "      <th>a_day</th>\n",
       "      <th>age</th>\n",
       "      <th>neighbourhood</th>\n",
       "      <th>no_show</th>\n",
       "      <th>days_passed</th>\n",
       "    </tr>\n",
       "  </thead>\n",
       "  <tbody>\n",
       "    <tr>\n",
       "      <th>85706</th>\n",
       "      <td>2.228872e+11</td>\n",
       "      <td>F</td>\n",
       "      <td>2016-06-08</td>\n",
       "      <td>2016-06-08</td>\n",
       "      <td>84</td>\n",
       "      <td>CARATOÍRA</td>\n",
       "      <td>0</td>\n",
       "      <td>0</td>\n",
       "    </tr>\n",
       "    <tr>\n",
       "      <th>85825</th>\n",
       "      <td>2.158213e+10</td>\n",
       "      <td>F</td>\n",
       "      <td>2016-06-01</td>\n",
       "      <td>2016-06-01</td>\n",
       "      <td>30</td>\n",
       "      <td>JARDIM CAMBURI</td>\n",
       "      <td>0</td>\n",
       "      <td>0</td>\n",
       "    </tr>\n",
       "    <tr>\n",
       "      <th>85709</th>\n",
       "      <td>3.352947e+13</td>\n",
       "      <td>M</td>\n",
       "      <td>2016-06-08</td>\n",
       "      <td>2016-06-08</td>\n",
       "      <td>49</td>\n",
       "      <td>ARIOVALDO FAVALESSA</td>\n",
       "      <td>0</td>\n",
       "      <td>0</td>\n",
       "    </tr>\n",
       "    <tr>\n",
       "      <th>85712</th>\n",
       "      <td>7.456526e+12</td>\n",
       "      <td>M</td>\n",
       "      <td>2016-06-08</td>\n",
       "      <td>2016-06-08</td>\n",
       "      <td>49</td>\n",
       "      <td>ARIOVALDO FAVALESSA</td>\n",
       "      <td>0</td>\n",
       "      <td>0</td>\n",
       "    </tr>\n",
       "    <tr>\n",
       "      <th>85787</th>\n",
       "      <td>7.647816e+13</td>\n",
       "      <td>F</td>\n",
       "      <td>2016-06-01</td>\n",
       "      <td>2016-06-01</td>\n",
       "      <td>60</td>\n",
       "      <td>JARDIM CAMBURI</td>\n",
       "      <td>0</td>\n",
       "      <td>0</td>\n",
       "    </tr>\n",
       "  </tbody>\n",
       "</table>\n",
       "</div>"
      ],
      "text/plain": [
       "         patient_id gender       s_day       a_day  age        neighbourhood  \\\n",
       "85706  2.228872e+11      F  2016-06-08  2016-06-08   84            CARATOÍRA   \n",
       "85825  2.158213e+10      F  2016-06-01  2016-06-01   30       JARDIM CAMBURI   \n",
       "85709  3.352947e+13      M  2016-06-08  2016-06-08   49  ARIOVALDO FAVALESSA   \n",
       "85712  7.456526e+12      M  2016-06-08  2016-06-08   49  ARIOVALDO FAVALESSA   \n",
       "85787  7.647816e+13      F  2016-06-01  2016-06-01   60       JARDIM CAMBURI   \n",
       "\n",
       "       no_show  days_passed  \n",
       "85706        0            0  \n",
       "85825        0            0  \n",
       "85709        0            0  \n",
       "85712        0            0  \n",
       "85787        0            0  "
      ]
     },
     "execution_count": 16,
     "metadata": {},
     "output_type": "execute_result"
    }
   ],
   "source": [
    "df.head() # Let's take a look to the final dataset   "
   ]
  },
  {
   "cell_type": "markdown",
   "metadata": {},
   "source": [
    "<a id='eda'></a>\n",
    "## Exploratory Data Analysis\n",
    "\n",
    "Now we are going to use this dataset to perform a quick analysis in order to answer a few questions. The goal of this exercise is getting confidence in Python as data analysis tool and get hands on into real world data.\n",
    "\n",
    "#### Some variable setting"
   ]
  },
  {
   "cell_type": "code",
   "execution_count": 17,
   "metadata": {},
   "outputs": [],
   "source": [
    "total_pa = df.patient_id.nunique() # Number of total patients\n",
    "total_ap = df.no_show.count() #      Number of total appointments, counting a randomly chose variable\n",
    "total_ap_ns = df.no_show.sum() #     Number of appointments with the patient not showing up"
   ]
  },
  {
   "cell_type": "markdown",
   "metadata": {},
   "source": [
    "### Does gender matters in patients not showing?"
   ]
  },
  {
   "cell_type": "code",
   "execution_count": 18,
   "metadata": {},
   "outputs": [],
   "source": [
    "total_f = df.query('gender == \"F\"').patient_id.nunique() #    Number of total female patients, we only count unique patients\n",
    "total_m = df.query('gender == \"M\"').patient_id.nunique() #    Number of total male patients\n",
    "total_f_ns = df.query('gender == \"F\" and no_show == 1').patient_id.nunique() # Females that didn't show up at least 1 time\n",
    "total_m_ns = df.query('gender == \"M\" and no_show == 1').patient_id.nunique() # Males that didn't show up at least 1 time"
   ]
  },
  {
   "cell_type": "code",
   "execution_count": 19,
   "metadata": {},
   "outputs": [
    {
     "name": "stdout",
     "output_type": "stream",
     "text": [
      "Total number of males: 22253 \n",
      "Total number of females: 40045\n",
      "Total number of males not showing up: 6155 \n",
      "Total number of females not showing up: 11506\n"
     ]
    }
   ],
   "source": [
    "print('Total number of males: {} \\nTotal number of females: {}\\nTotal number of males not showing up: {} \\nTotal number of females not showing up: {}'.format(total_m, total_f, total_m_ns, total_f_ns))"
   ]
  },
  {
   "cell_type": "code",
   "execution_count": 20,
   "metadata": {
    "scrolled": true
   },
   "outputs": [
    {
     "name": "stdout",
     "output_type": "stream",
     "text": [
      "Not showing males ratio: 27%\n",
      "Not showing females ratio: 28%\n"
     ]
    }
   ],
   "source": [
    "ns_m_r = total_m_ns / total_m * 100\n",
    "ns_f_r = total_f_ns / total_f * 100\n",
    "print('Not showing males ratio: {}%\\nNot showing females ratio: {}%'.format(int(ns_m_r), int(ns_f_r)))"
   ]
  },
  {
   "cell_type": "markdown",
   "metadata": {},
   "source": [
    "The ratio of absentism does not vary much from one gender to another. The female absentism is a little bit higher, but also the number of female records nearly doubles males, so it isn't clear. Lets take a look at it with a bar graph:"
   ]
  },
  {
   "cell_type": "code",
   "execution_count": 21,
   "metadata": {
    "scrolled": true
   },
   "outputs": [
    {
     "data": {
      "image/png": "[encoded data removed]",
      "text/plain": [
       "<matplotlib.figure.Figure at 0x2b581196320>"
      ]
     },
     "metadata": {},
     "output_type": "display_data"
    }
   ],
   "source": [
    "plt.figure(figsize = (7,5))\n",
    "p_ns = plt.bar(['females', 'males'], [total_f_ns, total_m_ns])\n",
    "p_s = plt.bar(range(2), [total_f, total_m], bottom = [total_f_ns, total_m_ns])\n",
    "plt.title('Absentism by gender')\n",
    "plt.ylabel('Number of patients')\n",
    "plt.legend((p_ns[0], p_s[0]),('Patients not showing up', 'Patients showing up'));"
   ]
  },
  {
   "cell_type": "markdown",
   "metadata": {},
   "source": [
    "### Have some hospitals more absentism ratio than others?"
   ]
  },
  {
   "cell_type": "markdown",
   "metadata": {},
   "source": [
    "The neighbourhood column indicates the hospital where the appoinment took place, we are going to take a look at the number of patients that have records in each hospital and the ones that didn't show up."
   ]
  },
  {
   "cell_type": "code",
   "execution_count": 22,
   "metadata": {},
   "outputs": [],
   "source": [
    "ne_total = df.groupby(['patient_id', 'neighbourhood'], as_index = False).count().neighbourhood.value_counts() \n",
    "ne_ns = df.query('no_show >= 1').groupby(['patient_id', 'neighbourhood'], as_index = False).count().neighbourhood.value_counts()"
   ]
  },
  {
   "cell_type": "markdown",
   "metadata": {},
   "source": [
    "Now that we have our series, we create a new one, containing the correspondent ratios."
   ]
  },
  {
   "cell_type": "code",
   "execution_count": 23,
   "metadata": {},
   "outputs": [],
   "source": [
    "r_neigh = ne_ns / ne_total * 100"
   ]
  },
  {
   "cell_type": "code",
   "execution_count": 24,
   "metadata": {
    "scrolled": true
   },
   "outputs": [
    {
     "data": {
      "text/plain": [
       "ILHAS OCEÂNICAS DE TRINDADE    100.000000\n",
       "SANTOS DUMONT                   40.225035\n",
       "ILHA DO FRADE                   40.000000\n",
       "SANTA CECÍLIA                   39.506173\n",
       "HORTO                           38.613861\n",
       "JESUS DE NAZARETH               37.325905\n",
       "SANTA CLARA                     36.231884\n",
       "Name: neighbourhood, dtype: float64"
      ]
     },
     "execution_count": 24,
     "metadata": {},
     "output_type": "execute_result"
    }
   ],
   "source": [
    "r_neigh.sort_values(ascending = False).head(7)"
   ]
  },
  {
   "cell_type": "markdown",
   "metadata": {},
   "source": [
    "These are the 7 hospitals with the highest no show ratio, we can omit some of them, like the one corresponding to Ilhas Oceanicas de Trindade, beacuse of the lack of records, with only 2, as seen here:"
   ]
  },
  {
   "cell_type": "code",
   "execution_count": 25,
   "metadata": {},
   "outputs": [
    {
     "data": {
      "text/plain": [
       "2"
      ]
     },
     "execution_count": 25,
     "metadata": {},
     "output_type": "execute_result"
    }
   ],
   "source": [
    "ne_total['ILHAS OCEÂNICAS DE TRINDADE']"
   ]
  },
  {
   "cell_type": "code",
   "execution_count": 26,
   "metadata": {},
   "outputs": [
    {
     "data": {
      "text/plain": [
       "28.019073196812016"
      ]
     },
     "execution_count": 26,
     "metadata": {},
     "output_type": "execute_result"
    }
   ],
   "source": [
    "r_neigh.median() # Median ratio of absentism by hospital. We use the median to \n",
    "                 # avoid extreme values interference, as the one seen before"
   ]
  },
  {
   "cell_type": "markdown",
   "metadata": {
    "scrolled": true
   },
   "source": [
    "The median is about 28%. Some of the hospitals seen before have values signicantly higher, also if we sort the data from below we can also see that there are ones with lower ratios, so we can confirm patient absentism does group by hospitals in this sample."
   ]
  },
  {
   "cell_type": "code",
   "execution_count": 27,
   "metadata": {},
   "outputs": [
    {
     "data": {
      "text/plain": [
       "ILHA DO BOI        13.636364\n",
       "AEROPORTO          14.285714\n",
       "DO QUADRO          20.440882\n",
       "VILA RUBIM         21.787709\n",
       "DO CABRAL          22.082019\n",
       "JARDIM DA PENHA    22.277639\n",
       "SOLON BORGES       22.302158\n",
       "Name: neighbourhood, dtype: float64"
      ]
     },
     "execution_count": 27,
     "metadata": {},
     "output_type": "execute_result"
    }
   ],
   "source": [
    "r_neigh.sort_values().head(7)"
   ]
  },
  {
   "cell_type": "markdown",
   "metadata": {},
   "source": [
    "### Does the age matters in patients not showing?"
   ]
  },
  {
   "cell_type": "markdown",
   "metadata": {},
   "source": [
    "To answer this question, I create a new Dataframe called ages from the join of two other Dataframes (age_t, age_ns). With the ages present in the sample as the index, and two columns containg the count of all of them, and the another the count of the ages of not appeared patients. Then a create a third column with the ratio of absentism by age."
   ]
  },
  {
   "cell_type": "code",
   "execution_count": 28,
   "metadata": {
    "scrolled": true
   },
   "outputs": [],
   "source": [
    "age_t = pd.DataFrame(df.query('no_show == 1')['age'].value_counts()).rename(columns = {'age' : 'p_age_ns'}).sort_index()\n",
    "age_ns = pd.DataFrame(df['age'].value_counts()).sort_index()\n",
    "# Two series converted to dataframes to allow the join"
   ]
  },
  {
   "cell_type": "code",
   "execution_count": 29,
   "metadata": {},
   "outputs": [],
   "source": [
    "ages = age_ns.join(age_t).fillna(0) # Some of the ages are nos present in the p_age_ns column, so we change the nulls with zeros"
   ]
  },
  {
   "cell_type": "code",
   "execution_count": 30,
   "metadata": {},
   "outputs": [],
   "source": [
    "ages['age_ratio'] = (ages.p_age_ns / ages.age * 100).astype(int) # The ratio of not showing patients by age"
   ]
  },
  {
   "cell_type": "code",
   "execution_count": 31,
   "metadata": {
    "scrolled": true
   },
   "outputs": [
    {
     "data": {
      "image/png": "[encoded data removed]",
      "text/plain": [
       "<matplotlib.figure.Figure at 0x2b5fd992198>"
      ]
     },
     "metadata": {},
     "output_type": "display_data"
    }
   ],
   "source": [
    "plt.title('Ratio of patients not appearing by age') # Time to plot!\n",
    "plt.plot(ages.index, ages.age_ratio)\n",
    "plt.xlabel('Age (Years)')\n",
    "plt.ylabel('Not showing up ratio (%)');"
   ]
  },
  {
   "cell_type": "markdown",
   "metadata": {},
   "source": [
    "That peak at the end of the Dataset is ruining our graph. Patients over the hundreds is going to have any impact on the analysis, so we plot again with the last value."
   ]
  },
  {
   "cell_type": "code",
   "execution_count": 32,
   "metadata": {},
   "outputs": [
    {
     "data": {
      "image/png": "[encoded data removed]",
      "text/plain": [
       "<matplotlib.figure.Figure at 0x2b580144978>"
      ]
     },
     "metadata": {},
     "output_type": "display_data"
    }
   ],
   "source": [
    "plt.title('Ratio of patients not appearing by age')\n",
    "plt.plot(ages.index[:-1], ages.age_ratio[:-1])\n",
    "plt.xlabel('Age (Years)')\n",
    "plt.ylabel('Not showing up ratio (%)');"
   ]
  },
  {
   "cell_type": "markdown",
   "metadata": {},
   "source": [
    "This graph shows that the ratio of patients not showing up to the appointment seems to increase with the age until it reachs 14 years old, then it begins to fall from over the 25% to the 10% until the 90s, so eldest are more apealing of not showing up."
   ]
  },
  {
   "cell_type": "markdown",
   "metadata": {},
   "source": [
    "### Does the time passed between the citation and the appointment matters in patients not showing up?"
   ]
  },
  {
   "cell_type": "markdown",
   "metadata": {},
   "source": [
    "Do the appointments set too far away un time get more patients not showing? That question can be answered by the columns with the scheduled day and the appointment day. As they are already datetime type, we can operate them to get the day passed. All these operations will be performed in a copy of the Dateframe df called dfdates."
   ]
  },
  {
   "cell_type": "code",
   "execution_count": 33,
   "metadata": {},
   "outputs": [],
   "source": [
    "dfdates = df[['days_passed', 'no_show']].copy()"
   ]
  },
  {
   "cell_type": "code",
   "execution_count": 34,
   "metadata": {
    "scrolled": true
   },
   "outputs": [],
   "source": [
    "dfdates_pa = pd.DataFrame(dfdates.groupby('days_passed').count().no_show).rename(columns ={'no_show' : 'total_patients'})\n",
    " # I just saved this column for the final dataframe"
   ]
  },
  {
   "cell_type": "code",
   "execution_count": 35,
   "metadata": {},
   "outputs": [],
   "source": [
    "dfdates = pd.DataFrame(dfdates.query('no_show == 1').groupby('days_passed').count().no_show).join(dfdates_pa)\n",
    "# Two operations here: first I get the counts of the missing patients, then I join it with dfdates_pa"
   ]
  },
  {
   "cell_type": "code",
   "execution_count": 36,
   "metadata": {},
   "outputs": [],
   "source": [
    "dfdates['no_show_ratio'] = dfdates.no_show / dfdates.total_patients * 100 # Get the ratio of patients not showing up"
   ]
  },
  {
   "cell_type": "code",
   "execution_count": 37,
   "metadata": {},
   "outputs": [],
   "source": [
    "dfdates = dfdates[dfdates.total_patients > 100] # Any size of sample below 100 is not going to be kept"
   ]
  },
  {
   "cell_type": "code",
   "execution_count": 38,
   "metadata": {},
   "outputs": [
    {
     "data": {
      "text/plain": [
       "days_passed\n",
       "0    38562\n",
       "2     6725\n",
       "Name: total_patients, dtype: int64"
      ]
     },
     "execution_count": 38,
     "metadata": {},
     "output_type": "execute_result"
    }
   ],
   "source": [
    "dfdates.total_patients.sort_values(ascending = False).head(2)"
   ]
  },
  {
   "cell_type": "markdown",
   "metadata": {},
   "source": [
    "There is a large maximum at 0 day passed. Most of the patients got their appointment the same day it was scheduled, so we dont keep track of that in our plot."
   ]
  },
  {
   "cell_type": "code",
   "execution_count": 39,
   "metadata": {},
   "outputs": [
    {
     "data": {
      "image/png": "[encoded data removed]",
      "text/plain": [
       "<matplotlib.figure.Figure at 0x2b5803d7588>"
      ]
     },
     "metadata": {},
     "output_type": "display_data"
    }
   ],
   "source": [
    "plt.title('Patients not showing up ratio by days until appointment')\n",
    "plt.plot(dfdates.index[1:], dfdates.no_show_ratio[1:])\n",
    "plt.xlabel('Days until appointment')\n",
    "plt.ylabel('Ratio of patients not showing up (%)');"
   ]
  },
  {
   "cell_type": "markdown",
   "metadata": {},
   "source": [
    "It is obvious that the ratio increases over the first 15 days. Starting from 22% the day after the appointment up to 40 passing 20 days, then it stays over 30 and 35 percent."
   ]
  },
  {
   "cell_type": "code",
   "execution_count": 40,
   "metadata": {},
   "outputs": [
    {
     "data": {
      "image/png": "[encoded data removed]",
      "text/plain": [
       "<matplotlib.figure.Figure at 0x2b5804675f8>"
      ]
     },
     "metadata": {},
     "output_type": "display_data"
    }
   ],
   "source": [
    "plt.title('When doctors want to see their patients?') #   Lets explore some additional data\n",
    "plt.plot(dfdates.index[1:], dfdates.total_patients[1:]) # How do doctors set the appointment? \n",
    "plt.xlabel('Days until appointment')\n",
    "plt.ylabel('Number of scheduled patients')\n",
    "plt.xticks([10, 20, 30, 40, 50, 60, 70]);"
   ]
  },
  {
   "cell_type": "markdown",
   "metadata": {},
   "source": [
    "And here is a interesting graph. It seems that doctors want to see their patients mostly the very same week, them the rate of patients being scheduled decreases constantly except for peaks on appoinments set for 2, 3, and 4 weeks after."
   ]
  },
  {
   "cell_type": "markdown",
   "metadata": {},
   "source": [
    "### How many patients did not show up multiple times?"
   ]
  },
  {
   "cell_type": "markdown",
   "metadata": {},
   "source": [
    "In this section we are going to answer how many patients did not show up to the appointment more than once. Then we are going to look at these patients and find out which gender is more likely of not appering more than once."
   ]
  },
  {
   "cell_type": "code",
   "execution_count": 41,
   "metadata": {},
   "outputs": [],
   "source": [
    "total_pa_ns = df.groupby('patient_id').no_show.sum() \n",
    "total_pa_ns = len(total_pa_ns[total_pa_ns > 0]) # The total of patients that didnt show up"
   ]
  },
  {
   "cell_type": "code",
   "execution_count": 42,
   "metadata": {},
   "outputs": [],
   "source": [
    "total_pa_ns_m = df.groupby('patient_id').no_show.sum() \n",
    "total_pa_ns_m = len(total_pa_ns_m[total_pa_ns_m > 1]) # The total of patients that din't show up for a second time or more"
   ]
  },
  {
   "cell_type": "code",
   "execution_count": 43,
   "metadata": {},
   "outputs": [
    {
     "data": {
      "image/png": "[encoded data removed]",
      "text/plain": [
       "<matplotlib.figure.Figure at 0x2b5804b6550>"
      ]
     },
     "metadata": {},
     "output_type": "display_data"
    }
   ],
   "source": [
    "plt.title('Ratio of patients who did not appear repeatedly ') \n",
    "plt.pie([total_pa_ns - total_pa_ns_m, total_pa_ns_m], labels = ('Patients that didnt show up', 'Patients that didnt show up repeatly'), autopct='%.0f%%');"
   ]
  },
  {
   "cell_type": "code",
   "execution_count": 44,
   "metadata": {},
   "outputs": [],
   "source": [
    "p_total_pa_ns = int(total_pa_ns / total_pa * 100) # p stands for pencentage\n",
    "p_total_pa_ns_m = int(total_pa_ns_m / total_pa_ns * 100)"
   ]
  },
  {
   "cell_type": "code",
   "execution_count": 45,
   "metadata": {},
   "outputs": [
    {
     "name": "stdout",
     "output_type": "stream",
     "text": [
      "The 28% of the total patients (62298 total patients) did not show up at least one time (17661 patients).\n",
      "18% of these patients (3223) did not show up again at least one time.\n"
     ]
    }
   ],
   "source": [
    "print ('The {}% of the total patients ({} total patients) did not show up at least one time ({} patients).\\n{}% of these patients ({}) did not show up again at least one time.'.format(p_total_pa_ns, total_pa, total_pa_ns, p_total_pa_ns_m, total_pa_ns_m))"
   ]
  },
  {
   "cell_type": "markdown",
   "metadata": {},
   "source": [
    "Now we can repeat the process by filtering the data by gender."
   ]
  },
  {
   "cell_type": "code",
   "execution_count": 46,
   "metadata": {},
   "outputs": [],
   "source": [
    "total_pa_ns_f = df.query('gender == \"F\"').groupby('patient_id').no_show.sum() \n",
    "total_pa_ns_f = len(total_pa_ns_f[total_pa_ns_f > 0]) # The total of females that didnt show up\n",
    "total_pa_ns_ma = df.query('gender == \"M\"').groupby('patient_id').no_show.sum() \n",
    "total_pa_ns_ma = len(total_pa_ns_ma[total_pa_ns_ma > 0]) # The total of males that didnt show up"
   ]
  },
  {
   "cell_type": "code",
   "execution_count": 47,
   "metadata": {},
   "outputs": [],
   "source": [
    "total_pa_ns_m_f = df.groupby('patient_id').no_show.sum() \n",
    "total_pa_ns_m_f = len(total_pa_ns_m_f[total_pa_ns_m_f > 1]) # The total of females that din't show up for a second time or more\n",
    "total_pa_ns_m_ma = df.groupby('patient_id').no_show.sum() \n",
    "total_pa_ns_m_ma = len(total_pa_ns_m_ma[total_pa_ns_m_ma > 1]) # The total of males that din't show up for a second time or more"
   ]
  },
  {
   "cell_type": "code",
   "execution_count": 48,
   "metadata": {},
   "outputs": [],
   "source": [
    "female_p = int(total_pa_ns_m_f / total_pa_ns_f * 100)\n",
    "male_p = int(total_pa_ns_m_ma / total_pa_ns_ma * 100)"
   ]
  },
  {
   "cell_type": "code",
   "execution_count": 49,
   "metadata": {},
   "outputs": [
    {
     "name": "stdout",
     "output_type": "stream",
     "text": [
      "A 28% of the female patients that did not show up did it for a second time or more.\n",
      "A 52% of the male patients share that same behavior.\n"
     ]
    }
   ],
   "source": [
    "print('A {}% of the female patients that did not show up did it for a second time or more.\\nA {}% of the male patients share that same behavior.'.format(female_p, male_p))"
   ]
  },
  {
   "cell_type": "markdown",
   "metadata": {},
   "source": [
    "We can say that is way more likely for a male patient to don't show up for a second time or more that for a female patient."
   ]
  },
  {
   "cell_type": "code",
   "execution_count": null,
   "metadata": {},
   "outputs": [],
   "source": []
  },
  {
   "cell_type": "markdown",
   "metadata": {},
   "source": [
    "<a id='conclusions'></a>\n",
    "## Conclusions\n",
    "\n"
   ]
  },
  {
   "cell_type": "markdown",
   "metadata": {
    "collapsed": true
   },
   "source": [
    "This analysis is not profound enough to get a real answer to the will this patient show up question. It is made with the purpose of taking a few different views to the data and get confidence with it. I can say from the results of this analysis is that patients that don't appear to the appointment are not completely random and follows some patterns.\n",
    "\n",
    "The younger patients seem to be more capable of not going to the appointments. The days passed between the citation and the appointment are a factor that increments the ratio of patients not showing up. The patients have no relevant differences in absentism by gender and usually do not repeat in not going to the appointment, even so female patients are a lot less likely to do not go to the appointments more than one time than males.\n",
    "\n",
    "Erratum: I did use the word ratio to mean percentage."
   ]
  },
  {
   "cell_type": "markdown",
   "metadata": {},
   "source": [
    "Some of the resources I used to make this report:\n",
    "\n",
    "http://pandas.pydata.org/pandas-docs/stable/\n",
    "\n",
    "https://stackoverflow.com/questions/42977395/pandas-dt-hour-formatting?utm_medium=organic&utm_source=google_rich_qa&utm_campaign=google_rich_qa\n",
    "\n",
    "https://stackoverflow.com/questions/40901770/is-there-a-simple-way-to-change-a-column-of-yes-no-to-1-0-in-a-pandas-dataframe?rq=1 \n",
    "\n",
    "https://matplotlib.org/gallery/lines_bars_and_markers/bar_stacked.html"
   ]
  },
  {
   "cell_type": "code",
   "execution_count": null,
   "metadata": {},
   "outputs": [],
   "source": []
  }
 ],
 "metadata": {
  "kernelspec": {
   "display_name": "Python 3",
   "language": "python",
   "name": "python3"
  },
  "language_info": {
   "codemirror_mode": {
    "name": "ipython",
    "version": 3
   },
   "file_extension": ".py",
   "mimetype": "text/x-python",
   "name": "python",
   "nbconvert_exporter": "python",
   "pygments_lexer": "ipython3",
   "version": "3.6.4"
  }
 },
 "nbformat": 4,
 "nbformat_minor": 2
}
